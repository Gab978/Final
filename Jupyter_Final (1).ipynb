{
 "cells": [
  {
   "cell_type": "markdown",
   "id": "3962006d-c0a2-4a62-b1ff-aa37440d7ec0",
   "metadata": {
    "tags": []
   },
   "source": [
    "<h1>My Jupyter Notebook on IBM Watson Studio<h1>"
   ]
  },
  {
   "cell_type": "markdown",
   "id": "86e40037-d973-4e95-baf8-86b3cc6fc83f",
   "metadata": {},
   "source": [
    "**Gabriel Ospina**\n",
    "<br>\n",
    "Civil Engineer Student"
   ]
  },
  {
   "cell_type": "markdown",
   "id": "1da0afcb-d4dd-4625-a600-557d2a1b6b77",
   "metadata": {},
   "source": [
    "My interest in data science comes from my interest in learning new types of information and growing my CV intending to gain more knowledge outside of my carreers field"
   ]
  },
  {
   "cell_type": "markdown",
   "id": "c63d462c-f804-41f3-b6d3-dcf2c620ea80",
   "metadata": {},
   "source": [
    "### My Code intends to show I've expanded my knowledge in jupyter notebook without using it before, this is done using a program to find square roots"
   ]
  },
  {
   "cell_type": "code",
   "execution_count": 10,
   "id": "27131e8d-ccc8-4386-b28b-37b63ebd0226",
   "metadata": {},
   "outputs": [
    {
     "name": "stdout",
     "output_type": "stream",
     "text": [
      "The square root of 8.00 is 2.83\n"
     ]
    }
   ],
   "source": [
    "num = 8 \n",
    "num_sqr = num ** 0.5\n",
    "print('The square root of %.2f is %.2f'%(num ,num_sqr))\n"
   ]
  },
  {
   "cell_type": "markdown",
   "id": "fdf4a6c5-0b03-4b1d-bb02-a478ffa556fc",
   "metadata": {},
   "source": [
    "- one\n",
    "<br>\n",
    "- two\n",
    "<br>\n",
    "- three\n",
    "<br>\n",
    "- four"
   ]
  },
  {
   "cell_type": "markdown",
   "id": "5b92faa5-e970-4cdf-92cd-381353534319",
   "metadata": {},
   "source": [
    "| **Markdown** | **Less** | **Pretty** |\n",
    "| --- | --- | --- |\n",
    "| Still | Renders | **Nicely**|\n",
    "| 1 | 2 | 3 |"
   ]
  },
  {
   "cell_type": "code",
   "execution_count": null,
   "id": "dc316cab-16bd-478e-b2cb-6a508d6415bd",
   "metadata": {},
   "outputs": [],
   "source": []
  }
 ],
 "metadata": {
  "kernelspec": {
   "display_name": "Python",
   "language": "python",
   "name": "conda-env-python-py"
  },
  "language_info": {
   "codemirror_mode": {
    "name": "ipython",
    "version": 3
   },
   "file_extension": ".py",
   "mimetype": "text/x-python",
   "name": "python",
   "nbconvert_exporter": "python",
   "pygments_lexer": "ipython3",
   "version": "3.7.12"
  }
 },
 "nbformat": 4,
 "nbformat_minor": 5
}
